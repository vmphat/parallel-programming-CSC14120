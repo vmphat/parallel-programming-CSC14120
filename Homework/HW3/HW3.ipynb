{
 "cells": [
  {
   "cell_type": "markdown",
   "metadata": {
    "id": "eGBgThS8q8k3"
   },
   "source": [
    "Fullname:\n",
    "\n",
    "Student ID:"
   ]
  },
  {
   "cell_type": "markdown",
   "metadata": {
    "id": "7qdrvDrCrnqz"
   },
   "source": [
    "# HW3: CUDA Memory"
   ]
  },
  {
   "cell_type": "markdown",
   "metadata": {
    "id": "VKXB0wA7yhq9"
   },
   "source": [
    "**To compile your file, you can use this command:** \\\n",
    "`nvcc filename.cu -o execute_filename` \\\n",
    "***You can use Vietnamese to anwser the questions***"
   ]
  },
  {
   "cell_type": "markdown",
   "metadata": {
    "id": "2xCyT0o8Z7nj"
   },
   "source": [
    "You can add/delete cells as you see fit. Just don't delete the cells with the Teacher's words."
   ]
  },
  {
   "cell_type": "markdown",
   "metadata": {},
   "source": [
    "---"
   ]
  },
  {
   "cell_type": "markdown",
   "metadata": {},
   "source": [
    "Below is the command to install `Nsight system` on Colab. You just need to run the cell."
   ]
  },
  {
   "cell_type": "code",
   "execution_count": null,
   "metadata": {},
   "outputs": [],
   "source": [
    "# Here is the command to install Nsight system on Colab. You just need to run the cell.\n",
    "!wget https://developer.download.nvidia.com/compute/cuda/repos/ubuntu2204/x86_64/nsight-systems-2023.2.3_2023.2.3.1001-1_amd64.deb\n",
    "!apt update\n",
    "!apt install ./nsight-systems-2023.2.3_2023.2.3.1001-1_amd64.deb\n",
    "!apt --fix-broken install"
   ]
  },
  {
   "cell_type": "markdown",
   "metadata": {},
   "source": [
    "- The above installation will be remove when colab restart its runtime. It should be fine for this homework because we don't use Nsight system that much.\n",
    "- But if you want to persistent install Nsight system, you mount space from your Google Drive to your Colab VM. Read [Here](https://stackoverflow.com/questions/76784746/how-to-use-nsys-in-google-colab) for guidelines how to do thhis."
   ]
  },
  {
   "cell_type": "markdown",
   "metadata": {},
   "source": [
    "---"
   ]
  },
  {
   "cell_type": "markdown",
   "metadata": {
    "id": "tbFLx1i4JxIE"
   },
   "source": [
    "## Question 1"
   ]
  },
  {
   "cell_type": "code",
   "execution_count": null,
   "metadata": {
    "id": "aZNqZuECjNso"
   },
   "outputs": [],
   "source": []
  },
  {
   "cell_type": "code",
   "execution_count": null,
   "metadata": {
    "id": "NVFUj14OYUyy"
   },
   "outputs": [],
   "source": []
  },
  {
   "cell_type": "code",
   "execution_count": null,
   "metadata": {},
   "outputs": [],
   "source": []
  },
  {
   "cell_type": "markdown",
   "metadata": {
    "id": "XebMjR45-0Io"
   },
   "source": [
    "## Question 2"
   ]
  },
  {
   "cell_type": "code",
   "execution_count": null,
   "metadata": {},
   "outputs": [],
   "source": [
    "# Generate report with nsight system\n",
    "!nsys profile ./a.out"
   ]
  }
 ],
 "metadata": {
  "accelerator": "GPU",
  "colab": {
   "collapsed_sections": [],
   "name": "HW3.ipynb",
   "provenance": [],
   "toc_visible": true
  },
  "kernelspec": {
   "display_name": "Python 3 (ipykernel)",
   "language": "python",
   "name": "python3"
  },
  "language_info": {
   "codemirror_mode": {
    "name": "ipython",
    "version": 3
   },
   "file_extension": ".py",
   "mimetype": "text/x-python",
   "name": "python",
   "nbconvert_exporter": "python",
   "pygments_lexer": "ipython3",
   "version": "3.11.6"
  }
 },
 "nbformat": 4,
 "nbformat_minor": 4
}
