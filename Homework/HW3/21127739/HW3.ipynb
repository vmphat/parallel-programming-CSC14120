{
 "cells": [
  {
   "cell_type": "markdown",
   "metadata": {
    "id": "eGBgThS8q8k3"
   },
   "source": [
    "Fullname: Vũ Minh Phát\n",
    "\n",
    "Student ID: 21127739"
   ]
  },
  {
   "cell_type": "markdown",
   "metadata": {
    "id": "7qdrvDrCrnqz"
   },
   "source": [
    "# HW3: CUDA Memory"
   ]
  },
  {
   "cell_type": "markdown",
   "metadata": {
    "id": "VKXB0wA7yhq9"
   },
   "source": [
    "**To compile your file, you can use this command:** \\\n",
    "`nvcc filename.cu -o execute_filename` \\\n",
    "***You can use Vietnamese to anwser the questions***"
   ]
  },
  {
   "cell_type": "markdown",
   "metadata": {
    "id": "2xCyT0o8Z7nj"
   },
   "source": [
    "You can add/delete cells as you see fit. Just don't delete the cells with the Teacher's words."
   ]
  },
  {
   "cell_type": "markdown",
   "metadata": {
    "id": "sWmNxXFYqd43"
   },
   "source": [
    "---"
   ]
  },
  {
   "cell_type": "markdown",
   "metadata": {
    "id": "jd5Eo865qd43"
   },
   "source": [
    "Below is the command to install `Nsight system` on Colab. You just need to run the cell."
   ]
  },
  {
   "cell_type": "code",
   "execution_count": 1,
   "metadata": {
    "colab": {
     "base_uri": "https://localhost:8080/"
    },
    "id": "qcfeMfE8qd44",
    "outputId": "fba3c910-592b-462d-d062-4ea5ce3eff5e"
   },
   "outputs": [
    {
     "name": "stdout",
     "output_type": "stream",
     "text": [
      "--2024-12-05 21:49:55--  https://developer.download.nvidia.com/compute/cuda/repos/ubuntu2204/x86_64/nsight-systems-2023.2.3_2023.2.3.1001-1_amd64.deb\n",
      "Resolving developer.download.nvidia.com (developer.download.nvidia.com)... 152.199.39.144\n",
      "Connecting to developer.download.nvidia.com (developer.download.nvidia.com)|152.199.39.144|:443... connected.\n",
      "HTTP request sent, awaiting response... 200 OK\n",
      "Length: 317705436 (303M) [application/x-deb]\n",
      "Saving to: ‘nsight-systems-2023.2.3_2023.2.3.1001-1_amd64.deb’\n",
      "\n",
      "nsight-systems-2023 100%[===================>] 302.99M   212MB/s    in 1.4s    \n",
      "\n",
      "2024-12-05 21:49:56 (212 MB/s) - ‘nsight-systems-2023.2.3_2023.2.3.1001-1_amd64.deb’ saved [317705436/317705436]\n",
      "\n",
      "Get:1 https://cloud.r-project.org/bin/linux/ubuntu jammy-cran40/ InRelease [3,626 B]\n",
      "Get:2 https://developer.download.nvidia.com/compute/cuda/repos/ubuntu2204/x86_64  InRelease [1,581 B]\n",
      "Get:3 http://security.ubuntu.com/ubuntu jammy-security InRelease [129 kB]\n",
      "Get:4 https://developer.download.nvidia.com/compute/cuda/repos/ubuntu2204/x86_64  Packages [1,190 kB]\n",
      "Hit:5 http://archive.ubuntu.com/ubuntu jammy InRelease\n",
      "Hit:6 https://ppa.launchpadcontent.net/deadsnakes/ppa/ubuntu jammy InRelease\n",
      "Get:7 http://archive.ubuntu.com/ubuntu jammy-updates InRelease [128 kB]\n",
      "Hit:8 https://ppa.launchpadcontent.net/graphics-drivers/ppa/ubuntu jammy InRelease\n",
      "Get:9 https://r2u.stat.illinois.edu/ubuntu jammy InRelease [6,555 B]\n",
      "Hit:10 https://ppa.launchpadcontent.net/ubuntugis/ppa/ubuntu jammy InRelease\n",
      "Get:11 http://security.ubuntu.com/ubuntu jammy-security/main amd64 Packages [2,454 kB]\n",
      "Get:12 http://archive.ubuntu.com/ubuntu jammy-backports InRelease [127 kB]\n",
      "Get:13 https://r2u.stat.illinois.edu/ubuntu jammy/main amd64 Packages [2,624 kB]\n",
      "Get:14 http://archive.ubuntu.com/ubuntu jammy-updates/restricted amd64 Packages [3,446 kB]\n",
      "Get:15 http://security.ubuntu.com/ubuntu jammy-security/universe amd64 Packages [1,225 kB]\n",
      "Get:16 http://archive.ubuntu.com/ubuntu jammy-updates/universe amd64 Packages [1,514 kB]\n",
      "Get:17 http://archive.ubuntu.com/ubuntu jammy-updates/multiverse amd64 Packages [53.3 kB]\n",
      "Get:18 http://archive.ubuntu.com/ubuntu jammy-updates/main amd64 Packages [2,738 kB]\n",
      "Get:19 https://r2u.stat.illinois.edu/ubuntu jammy/main all Packages [8,525 kB]\n",
      "Fetched 24.2 MB in 5s (4,564 kB/s)\n",
      "Reading package lists... Done\n",
      "Building dependency tree... Done\n",
      "Reading state information... Done\n",
      "50 packages can be upgraded. Run 'apt list --upgradable' to see them.\n",
      "\u001b[1;33mW: \u001b[0mSkipping acquire of configured file 'main/source/Sources' as repository 'https://r2u.stat.illinois.edu/ubuntu jammy InRelease' does not seem to provide it (sources.list entry misspelt?)\u001b[0m\n",
      "Reading package lists... Done\n",
      "Building dependency tree... Done\n",
      "Reading state information... Done\n",
      "Note, selecting 'nsight-systems-2023.2.3' instead of './nsight-systems-2023.2.3_2023.2.3.1001-1_amd64.deb'\n",
      "The following additional packages will be installed:\n",
      "  libtinfo5 libxcb-icccm4 libxcb-image0 libxcb-keysyms1 libxcb-render-util0 libxcb-util1\n",
      "  libxcb-xinerama0 libxcb-xinput0 libxcb-xkb1 libxkbcommon-x11-0 libxtst6\n",
      "The following NEW packages will be installed:\n",
      "  libtinfo5 libxcb-icccm4 libxcb-image0 libxcb-keysyms1 libxcb-render-util0 libxcb-util1\n",
      "  libxcb-xinerama0 libxcb-xinput0 libxcb-xkb1 libxkbcommon-x11-0 libxtst6 nsight-systems-2023.2.3\n",
      "0 upgraded, 12 newly installed, 0 to remove and 50 not upgraded.\n",
      "Need to get 318 MB of archives.\n",
      "After this operation, 1,269 kB of additional disk space will be used.\n",
      "Get:1 https://developer.download.nvidia.com/compute/cuda/repos/ubuntu2204/x86_64  nsight-systems-2023.2.3 2023.2.3.1001-32894139v0 [318 MB]\n",
      "Get:2 http://archive.ubuntu.com/ubuntu jammy-updates/universe amd64 libtinfo5 amd64 6.3-2ubuntu0.1 [100 kB]\n",
      "Get:3 http://archive.ubuntu.com/ubuntu jammy/main amd64 libxcb-xinerama0 amd64 1.14-3ubuntu3 [5,414 B]\n",
      "Get:4 http://archive.ubuntu.com/ubuntu jammy/main amd64 libxcb-xinput0 amd64 1.14-3ubuntu3 [34.3 kB]\n",
      "Get:5 http://archive.ubuntu.com/ubuntu jammy/main amd64 libxcb-xkb1 amd64 1.14-3ubuntu3 [32.8 kB]\n",
      "Get:6 http://archive.ubuntu.com/ubuntu jammy/main amd64 libxkbcommon-x11-0 amd64 1.4.0-1 [14.4 kB]\n",
      "Get:7 http://archive.ubuntu.com/ubuntu jammy/main amd64 libxtst6 amd64 2:1.2.3-1build4 [13.4 kB]\n",
      "Get:8 http://archive.ubuntu.com/ubuntu jammy/main amd64 libxcb-icccm4 amd64 0.4.1-1.1build2 [11.5 kB]\n",
      "Get:9 http://archive.ubuntu.com/ubuntu jammy/main amd64 libxcb-util1 amd64 0.4.0-1build2 [11.4 kB]\n",
      "Get:10 http://archive.ubuntu.com/ubuntu jammy/main amd64 libxcb-image0 amd64 0.4.0-2 [11.5 kB]\n",
      "Get:11 http://archive.ubuntu.com/ubuntu jammy/main amd64 libxcb-keysyms1 amd64 0.4.0-1build3 [8,746 B]\n",
      "Get:12 http://archive.ubuntu.com/ubuntu jammy/main amd64 libxcb-render-util0 amd64 0.3.9-1build3 [10.3 kB]\n",
      "Fetched 318 MB in 5s (60.0 MB/s)\n",
      "Selecting previously unselected package libtinfo5:amd64.\n",
      "(Reading database ... 123632 files and directories currently installed.)\n",
      "Preparing to unpack .../00-libtinfo5_6.3-2ubuntu0.1_amd64.deb ...\n",
      "Unpacking libtinfo5:amd64 (6.3-2ubuntu0.1) ...\n",
      "Selecting previously unselected package libxcb-xinerama0:amd64.\n",
      "Preparing to unpack .../01-libxcb-xinerama0_1.14-3ubuntu3_amd64.deb ...\n",
      "Unpacking libxcb-xinerama0:amd64 (1.14-3ubuntu3) ...\n",
      "Selecting previously unselected package libxcb-xinput0:amd64.\n",
      "Preparing to unpack .../02-libxcb-xinput0_1.14-3ubuntu3_amd64.deb ...\n",
      "Unpacking libxcb-xinput0:amd64 (1.14-3ubuntu3) ...\n",
      "Selecting previously unselected package libxcb-xkb1:amd64.\n",
      "Preparing to unpack .../03-libxcb-xkb1_1.14-3ubuntu3_amd64.deb ...\n",
      "Unpacking libxcb-xkb1:amd64 (1.14-3ubuntu3) ...\n",
      "Selecting previously unselected package libxkbcommon-x11-0:amd64.\n",
      "Preparing to unpack .../04-libxkbcommon-x11-0_1.4.0-1_amd64.deb ...\n",
      "Unpacking libxkbcommon-x11-0:amd64 (1.4.0-1) ...\n",
      "Selecting previously unselected package libxtst6:amd64.\n",
      "Preparing to unpack .../05-libxtst6_2%3a1.2.3-1build4_amd64.deb ...\n",
      "Unpacking libxtst6:amd64 (2:1.2.3-1build4) ...\n",
      "Selecting previously unselected package libxcb-icccm4:amd64.\n",
      "Preparing to unpack .../06-libxcb-icccm4_0.4.1-1.1build2_amd64.deb ...\n",
      "Unpacking libxcb-icccm4:amd64 (0.4.1-1.1build2) ...\n",
      "Selecting previously unselected package libxcb-util1:amd64.\n",
      "Preparing to unpack .../07-libxcb-util1_0.4.0-1build2_amd64.deb ...\n",
      "Unpacking libxcb-util1:amd64 (0.4.0-1build2) ...\n",
      "Selecting previously unselected package libxcb-image0:amd64.\n",
      "Preparing to unpack .../08-libxcb-image0_0.4.0-2_amd64.deb ...\n",
      "Unpacking libxcb-image0:amd64 (0.4.0-2) ...\n",
      "Selecting previously unselected package libxcb-keysyms1:amd64.\n",
      "Preparing to unpack .../09-libxcb-keysyms1_0.4.0-1build3_amd64.deb ...\n",
      "Unpacking libxcb-keysyms1:amd64 (0.4.0-1build3) ...\n",
      "Selecting previously unselected package libxcb-render-util0:amd64.\n",
      "Preparing to unpack .../10-libxcb-render-util0_0.3.9-1build3_amd64.deb ...\n",
      "Unpacking libxcb-render-util0:amd64 (0.3.9-1build3) ...\n",
      "Selecting previously unselected package nsight-systems-2023.2.3.\n",
      "Preparing to unpack .../11-nsight-systems-2023.2.3_2023.2.3.1001-32894139v0_amd64.deb ...\n",
      "Unpacking nsight-systems-2023.2.3 (2023.2.3.1001-32894139v0) ...\n",
      "Setting up libxcb-xinput0:amd64 (1.14-3ubuntu3) ...\n",
      "Setting up libxtst6:amd64 (2:1.2.3-1build4) ...\n",
      "Setting up libxcb-keysyms1:amd64 (0.4.0-1build3) ...\n",
      "Setting up libxcb-render-util0:amd64 (0.3.9-1build3) ...\n",
      "Setting up libxcb-icccm4:amd64 (0.4.1-1.1build2) ...\n",
      "Setting up libxcb-util1:amd64 (0.4.0-1build2) ...\n",
      "Setting up libxcb-xkb1:amd64 (1.14-3ubuntu3) ...\n",
      "Setting up libxcb-image0:amd64 (0.4.0-2) ...\n",
      "Setting up libxcb-xinerama0:amd64 (1.14-3ubuntu3) ...\n",
      "Setting up libxkbcommon-x11-0:amd64 (1.4.0-1) ...\n",
      "Setting up libtinfo5:amd64 (6.3-2ubuntu0.1) ...\n",
      "Setting up nsight-systems-2023.2.3 (2023.2.3.1001-32894139v0) ...\n",
      "update-alternatives: using /opt/nvidia/nsight-systems/2023.2.3/target-linux-x64/nsys to provide /usr/local/bin/nsys (nsys) in auto mode\n",
      "update-alternatives: using /opt/nvidia/nsight-systems/2023.2.3/host-linux-x64/nsys-ui to provide /usr/local/bin/nsys-ui (nsys-ui) in auto mode\n",
      "Processing triggers for libc-bin (2.35-0ubuntu3.4) ...\n",
      "/sbin/ldconfig.real: /usr/local/lib/libtbbbind_2_5.so.3 is not a symbolic link\n",
      "\n",
      "/sbin/ldconfig.real: /usr/local/lib/libtbb.so.12 is not a symbolic link\n",
      "\n",
      "/sbin/ldconfig.real: /usr/local/lib/libtbbbind_2_0.so.3 is not a symbolic link\n",
      "\n",
      "/sbin/ldconfig.real: /usr/local/lib/libtbbmalloc_proxy.so.2 is not a symbolic link\n",
      "\n",
      "/sbin/ldconfig.real: /usr/local/lib/libtcm_debug.so.1 is not a symbolic link\n",
      "\n",
      "/sbin/ldconfig.real: /usr/local/lib/libtbbbind.so.3 is not a symbolic link\n",
      "\n",
      "/sbin/ldconfig.real: /usr/local/lib/libur_loader.so.0 is not a symbolic link\n",
      "\n",
      "/sbin/ldconfig.real: /usr/local/lib/libtcm.so.1 is not a symbolic link\n",
      "\n",
      "/sbin/ldconfig.real: /usr/local/lib/libur_adapter_level_zero.so.0 is not a symbolic link\n",
      "\n",
      "/sbin/ldconfig.real: /usr/local/lib/libur_adapter_opencl.so.0 is not a symbolic link\n",
      "\n",
      "/sbin/ldconfig.real: /usr/local/lib/libhwloc.so.15 is not a symbolic link\n",
      "\n",
      "/sbin/ldconfig.real: /usr/local/lib/libtbbmalloc.so.2 is not a symbolic link\n",
      "\n",
      "/sbin/ldconfig.real: /usr/local/lib/libumf.so.0 is not a symbolic link\n",
      "\n",
      "Reading package lists... Done\n",
      "Building dependency tree... Done\n",
      "Reading state information... Done\n",
      "0 upgraded, 0 newly installed, 0 to remove and 51 not upgraded.\n"
     ]
    }
   ],
   "source": [
    "# Here is the command to install Nsight system on Colab. You just need to run the cell.\n",
    "!wget https://developer.download.nvidia.com/compute/cuda/repos/ubuntu2204/x86_64/nsight-systems-2023.2.3_2023.2.3.1001-1_amd64.deb\n",
    "!apt update\n",
    "!apt install ./nsight-systems-2023.2.3_2023.2.3.1001-1_amd64.deb\n",
    "!apt --fix-broken install"
   ]
  },
  {
   "cell_type": "markdown",
   "metadata": {
    "id": "TmBd7aUVqd46"
   },
   "source": [
    "- The above installation will be remove when colab restart its runtime. It should be fine for this homework because we don't use Nsight system that much.\n",
    "- But if you want to persistent install Nsight system, you mount space from your Google Drive to your Colab VM. Read [Here](https://stackoverflow.com/questions/76784746/how-to-use-nsys-in-google-colab) for guidelines how to do thhis."
   ]
  },
  {
   "cell_type": "markdown",
   "metadata": {
    "id": "nZAFPkJIqd47"
   },
   "source": [
    "---"
   ]
  },
  {
   "cell_type": "markdown",
   "metadata": {
    "id": "tbFLx1i4JxIE"
   },
   "source": [
    "## Question 1"
   ]
  },
  {
   "cell_type": "markdown",
   "metadata": {
    "id": "9iJH6oFWqd48"
   },
   "source": [
    "**Đề bài**: Áp dụng hiểu biết về các loại bộ nhớ trong CUDA để tối ưu hóa chương trình làm mờ ảnh RGB (cách làm mờ giống như ở `HW1`)."
   ]
  },
  {
   "cell_type": "markdown",
   "metadata": {
    "id": "LPACWIKXqd48"
   },
   "source": [
    "Biên dịch file code `HW3_P1.cu` với trình biên dịch NVCC:"
   ]
  },
  {
   "cell_type": "code",
   "execution_count": 2,
   "metadata": {
    "id": "aZNqZuECjNso"
   },
   "outputs": [],
   "source": [
    "!nvcc HW3_P1.cu -o HW3_P1"
   ]
  },
  {
   "cell_type": "markdown",
   "metadata": {
    "id": "Ke7cOIVdqd49"
   },
   "source": [
    "Chạy chương trình với các kích thước block khác nhau:\n",
    "- Với kích thước block 16x16:"
   ]
  },
  {
   "cell_type": "code",
   "execution_count": 4,
   "metadata": {
    "colab": {
     "base_uri": "https://localhost:8080/"
    },
    "id": "NVFUj14OYUyy",
    "outputId": "776f1945-1957-4655-fccb-590cef3604a3"
   },
   "outputs": [
    {
     "name": "stdout",
     "output_type": "stream",
     "text": [
      "**********GPU info**********\n",
      "Name: Tesla T4\n",
      "Compute capability: 7.5\n",
      "Num SMs: 40\n",
      "Max num threads per SM: 1024\n",
      "Max num warps per SM: 32\n",
      "GMEM: 15835660288 bytes\n",
      "CMEM: 65536 bytes\n",
      "L2 cache: 4194304 bytes\n",
      "SMEM / one SM: 65536 bytes\n",
      "****************************\n",
      "\n",
      "Image size (width x height): 512 x 512\n",
      "\n",
      "Kernel 1, block size 16x16, grid size 32x32\n",
      "Kernel time: 0.954976 ms\n",
      "Error: 0.000703\n",
      "\n",
      "Kernel 2, block size 16x16, grid size 32x32\n",
      "Kernel time: 0.356992 ms\n",
      "Error: 0.000703\n",
      "\n",
      "Kernel 3, block size 16x16, grid size 32x32\n",
      "Kernel time: 0.284320 ms\n",
      "Error: 0.000703\n"
     ]
    }
   ],
   "source": [
    "!./HW3_P1 in.pnm out.pnm 16 16"
   ]
  },
  {
   "cell_type": "markdown",
   "metadata": {
    "id": "PW_bd1cqqd49"
   },
   "source": [
    "- Với kích thước block 16x32:"
   ]
  },
  {
   "cell_type": "code",
   "execution_count": 6,
   "metadata": {
    "colab": {
     "base_uri": "https://localhost:8080/"
    },
    "id": "t6smXQuFqd4-",
    "outputId": "a7789c2c-b03f-4829-86c9-50f855e390af"
   },
   "outputs": [
    {
     "name": "stdout",
     "output_type": "stream",
     "text": [
      "**********GPU info**********\n",
      "Name: Tesla T4\n",
      "Compute capability: 7.5\n",
      "Num SMs: 40\n",
      "Max num threads per SM: 1024\n",
      "Max num warps per SM: 32\n",
      "GMEM: 15835660288 bytes\n",
      "CMEM: 65536 bytes\n",
      "L2 cache: 4194304 bytes\n",
      "SMEM / one SM: 65536 bytes\n",
      "****************************\n",
      "\n",
      "Image size (width x height): 512 x 512\n",
      "\n",
      "Kernel 1, block size 16x32, grid size 32x16\n",
      "Kernel time: 0.875616 ms\n",
      "Error: 0.000703\n",
      "\n",
      "Kernel 2, block size 16x32, grid size 32x16\n",
      "Kernel time: 0.359360 ms\n",
      "Error: 0.000703\n",
      "\n",
      "Kernel 3, block size 16x32, grid size 32x16\n",
      "Kernel time: 0.290848 ms\n",
      "Error: 0.000703\n"
     ]
    }
   ],
   "source": [
    "!./HW3_P1 in.pnm out.pnm 16 32"
   ]
  },
  {
   "cell_type": "markdown",
   "metadata": {
    "id": "bBU_oAeXqd4-"
   },
   "source": [
    "- Với kích thước block 16x64:"
   ]
  },
  {
   "cell_type": "code",
   "execution_count": 8,
   "metadata": {
    "colab": {
     "base_uri": "https://localhost:8080/"
    },
    "id": "jTYWhe6aqd4-",
    "outputId": "0b23220d-50f4-4958-ed2b-910e404c9c44"
   },
   "outputs": [
    {
     "name": "stdout",
     "output_type": "stream",
     "text": [
      "**********GPU info**********\n",
      "Name: Tesla T4\n",
      "Compute capability: 7.5\n",
      "Num SMs: 40\n",
      "Max num threads per SM: 1024\n",
      "Max num warps per SM: 32\n",
      "GMEM: 15835660288 bytes\n",
      "CMEM: 65536 bytes\n",
      "L2 cache: 4194304 bytes\n",
      "SMEM / one SM: 65536 bytes\n",
      "****************************\n",
      "\n",
      "Image size (width x height): 512 x 512\n",
      "\n",
      "Kernel 1, block size 16x64, grid size 32x8\n",
      "Kernel time: 0.968448 ms\n",
      "Error: 0.000703\n",
      "\n",
      "Kernel 2, block size 16x64, grid size 32x8\n",
      "Kernel time: 0.399424 ms\n",
      "Error: 0.000703\n",
      "\n",
      "Kernel 3, block size 16x64, grid size 32x8\n",
      "Kernel time: 0.311584 ms\n",
      "Error: 0.000703\n"
     ]
    }
   ],
   "source": [
    "!./HW3_P1 in.pnm out.pnm 16 64"
   ]
  },
  {
   "cell_type": "markdown",
   "metadata": {
    "id": "auVHAq3tqd4-"
   },
   "source": [
    "- Với kích thước block 32x32:"
   ]
  },
  {
   "cell_type": "code",
   "execution_count": 10,
   "metadata": {
    "colab": {
     "base_uri": "https://localhost:8080/"
    },
    "id": "E08YPRWPqd4_",
    "outputId": "71a94893-0b57-4e8a-8d5e-6f47cca1ea50"
   },
   "outputs": [
    {
     "name": "stdout",
     "output_type": "stream",
     "text": [
      "**********GPU info**********\n",
      "Name: Tesla T4\n",
      "Compute capability: 7.5\n",
      "Num SMs: 40\n",
      "Max num threads per SM: 1024\n",
      "Max num warps per SM: 32\n",
      "GMEM: 15835660288 bytes\n",
      "CMEM: 65536 bytes\n",
      "L2 cache: 4194304 bytes\n",
      "SMEM / one SM: 65536 bytes\n",
      "****************************\n",
      "\n",
      "Image size (width x height): 512 x 512\n",
      "\n",
      "Kernel 1, block size 32x32, grid size 16x16\n",
      "Kernel time: 0.757248 ms\n",
      "Error: 0.000703\n",
      "\n",
      "Kernel 2, block size 32x32, grid size 16x16\n",
      "Kernel time: 0.385152 ms\n",
      "Error: 0.000703\n",
      "\n",
      "Kernel 3, block size 32x32, grid size 16x16\n",
      "Kernel time: 0.307040 ms\n",
      "Error: 0.000703\n"
     ]
    }
   ],
   "source": [
    "!./HW3_P1 in.pnm out.pnm 32 32"
   ]
  },
  {
   "cell_type": "markdown",
   "metadata": {
    "id": "G2DQoO29x0UQ"
   },
   "source": [
    "**Nhận xét**: Dựa trên kết quả về thời gian thực thi của các hàm kernel từ các thí nghiệm bên trên, ta có thể đưa ra một số nhận xét về hiệu suất của chương trình CUDA khi sử dụng các loại bộ nhớ khác nhau:\n",
    "\n",
    "---\n",
    "\n",
    "`1.` **Hàm kernel có sử dụng SMEM (shared memory) sẽ chạy nhanh hơn hàm kernel không sử dụng SMEM:**\n",
    "\n",
    "- **Hàm kernel `blurImgKernel1` (sử dụng global memory cho cả `inPixels` và `filter`):**\n",
    "  - Trong hàm kernel 1, cả `inPixels` và `filter` đều được lưu trong global memory. Điều này dẫn đến mỗi thread phải thực hiện nhiều lần truy cập đến GMEM (global memory) để đọc dữ liệu cần thiết cho việc tính toán.\n",
    "  \n",
    "  - Tuy nhiên, global memory vốn có độ trễ cao và băng thông thấp hơn so với một số loại bộ nhớ khác trong CUDA. Do đó, việc sử dụng global memory để lưu trữ dữ liệu `inPixels` và `filter` đã làm giảm hiệu suất của hàm kernel 1 vì thời gian đọc dữ liệu từ GMEM chiếm một phần lớn thời gian thực thi của hàm kernel.\n",
    "\n",
    "- **Hàm kernel `blurImgKernel2` (sử dụng shared memory cho `inPixels`, global memory cho `filter`):**\n",
    "  - Trong hàm kernel 2, mỗi block sẽ đọc giá trị của `inPixels` từ GMEM vào SMEM (shared memory) trước khi thực hiện tính toán. Trong quá trình thực hiện thuật toán convolution để làm mờ ảnh, các thread trong cùng một block sẽ truy cập đến các giá trị của `inPixels` trong SMEM, giúp giảm số lần truy cập đến GMEM.\n",
    "\n",
    "  - Tuy nhiên, `filter` vẫn được lưu trữ trong GMEM, nghĩa là mỗi thread trong block vẫn phải truy cập đến GMEM để lấy được giá trị `filter` khi tính toán, điều này gây một mức overhead nhất định.\n",
    "\n",
    "- **Hiệu suất của hàm kernel 2 so với hàm kernel 1:**\n",
    "  - Quan sát kết quả từ các thí nghiệm, ta thấy rằng hàm kernel 2 (sử dụng SMEM cho `inPixels`) chạy nhanh hơn hàm kernel 1 (**không** sử dụng SMEM cho `inPixels`) từ 2 đến 3 lần, với mọi kích thước block.\n",
    "\n",
    "  - Vì SMEM có độ trễ thấp hơn so với GMEM, nên việc sử dụng SMEM để lưu trữ dữ liệu `inPixels` đã giúp giảm thời gian đọc dữ liệu từ bộ nhớ chính. Đồng thời, các giá trị `inPixels` trong SMEM cũng có thể được tái sử dụng nhiều lần bởi các thread trong cùng một block. Chính những yếu tố này đã giúp tăng hiệu suất của hàm kernel 2 lên đáng kể so với hàm kernel 1.\n",
    "\n",
    "- **Hàm kernel `blurImgKernel3` (sử dụng shared memory cho `inPixels`, constant memory cho `filter`):**\n",
    "  - Tương tự như hàm kernel 2, hàm kernel 3 cũng sử dụng SMEM để lưu trữ dữ liệu `inPixels` và giảm số lần truy cập đến GMEM. Do đó, những quan sát của chúng ta về hiệu suất của hàm kernel 2 cũng có thể áp dụng cho hàm kernel 3. Nghĩa là, hàm kernel 3 cũng chạy nhanh hơn hàm kernel 1 nhờ việc sử dụng SMEM cho `inPixels`.\n",
    "\n",
    "---\n",
    "\n",
    "`2.` **Hàm kernel có sử dụng CMEM (constant memory) sẽ chạy nhanh hơn hàm kernel không sử dụng CMEM:**\n",
    "\n",
    "- **Hàm kernel `blurImgKernel2` (sử dụng global memory cho `filter`):**\n",
    "  - Trong hàm kernel 2, mỗi thread phải truy cập đến GMEM để đọc giá trị `filter`. Mặc dù số lượng truy cập GMEM cho `inPixels` đã giảm nhờ sử dụng shared memory, nhưng việc đọc `filter` từ GMEM vẫn là một \"nút thắt\" làm giảm hiệu suất của hàm kernel này.\n",
    "\n",
    "- **Hàm kernel `blurImgKernel3` (sử dụng constant memory cho `filter`, shared memory cho `inPixels`):**\n",
    "  - Trong hàm kernel 3, giá trị `filter` được lưu trữ trong CMEM (constant memory). CMEM trong CUDA được tối ưu hóa để lưu trữ các giá trị bất biến (như `filter` trong trường hợp này) và có một cache riêng trên CUDA device. Khi các thread trong cùng một warp truy cập cùng một giá trị `filter`, ta chỉ cần một lần truy cập để phục vụ cho tất cả các thread.\n",
    "  \n",
    "  - Nhờ kết hợp việc sử dụng SMEM cho `inPixels` và CMEM cho `filter`, hàm kernel 3 đã cắt giảm số lượng truy cập đến GMEM cho cả `inPixels` và `filter`. Điều này có tác động trực tiếp trong giai đoạn thực hiện thuật toán convolution, đóng góp vào hiệu suất tổng thể của hàm kernel này.\n",
    "\n",
    "- **Hiệu suất của hàm kernel 3 so với hàm kernel 2:**\n",
    "  - Quan sát kết quả từ các thí nghiệm, ta thấy rằng hàm kernel 3 (sử dụng CMEM cho `filter`) chạy nhanh hơn hàm kernel 2 (**không** sử dụng CMEM cho `filter`) với mọi kích thước block, mặc dù sự chênh lệch này không lớn bằng sự chênh lệch giữa hàm kernel 2 và hàm kernel 1.\n",
    "  \n",
    "  - Vì CMEM (và cơ chế caching đặc biệt của nó) hiệu quả hơn GMEM trong việc lưu trữ các giá trị bất biến như `filter`. Nên các giá trị `filter` trong CMEM được truy cập nhanh hơn so với khi lưu trữ trong GMEM.\n",
    "\n",
    "  - Việc sử dụng CMEM cho `filter` giúp giảm số lần truy cập đến GMEM, giúp tăng hiệu suất của hàm kernel 3 so với hàm kernel 2. Điều này cũng là một minh chứng khác cho việc sử dụng các loại bộ nhớ khác nhau trong CUDA để tối ưu hóa hiệu suất của chương trình.\n",
    "\n",
    "- **Hàm kernel `blurImgKernel1` (chỉ sử dụng global memory):**\n",
    "  - Tương tự như hàm kernel 2, hàm kernel 1 cũng không sử dụng CMEM cho `filter`. Do đó, những quan sát của chúng ta về hiệu suất của hàm kernel 2 cũng có thể phần nào áp dụng cho hàm kernel 1. Nghĩa là, hàm kernel 3 cũng chạy nhanh hơn hàm kernel 1 nhờ việc sử dụng CMEM cho `filter`.\n",
    "  \n",
    "---\n",
    "\n",
    "`3.` **Thời gian chạy với các kích thước block khác nhau:**\n",
    "\n",
    "- **Kích thước block nhỏ (16x16):**\n",
    "  - Số lượng thread trên mỗi block nhỏ, dẫn đến cần nhiều block để bao phủ toàn bộ ảnh. Số lượng block tăng làm tăng overhead về quản lý block và các lần tải SMEM/CMEM.\n",
    "\n",
    "  - Hơn nữa, mỗi block chỉ có một lượng nhỏ SMEM, nên không tận dụng hết băng thông của shared memory.\n",
    "\n",
    "  - Do đó, thời gian chạy của các hàm kernel với kích thước block nhỏ thường dài hơn so với khi sử dụng kích thước block lớn hơn.\n",
    "\n",
    "- **Kích thước block lớn hơn (16x32, 16x64, 32x32):**\n",
    "  - Khi kích thước block lớn hơn, số lượng thread trên mỗi block tăng, giúp giảm số lượng block cần thiết, từ đó giảm overhead quản lý block.\n",
    "\n",
    "  - Với kích thước block 32x32, số lượng thread trong block gần với giới hạn tối đa của một SM (1024 thread). Điều này giúp tận dụng tối đa tài nguyên (thread, SMEM) trên mỗi SM, dẫn đến hiệu suất tốt hơn.\n",
    "\n",
    "- **Sự khác biệt nhỏ giữa các kích thước block lớn hơn (16x32, 16x64, 32x32):**\n",
    "  - Dù kích thước block tăng, nhưng thời gian chạy chỉ thay đổi nhẹ do ảnh hưởng từ cách các thread được lập lịch và sử dụng tài nguyên của hệ thống. Với kích thước block 32x32, số lượng thread vừa phải, tối ưu được hiệu suất SM.\n",
    "\n",
    "---\n",
    "\n",
    "**Kết luận:**\n",
    "1. **Hàm kernel 2 chạy nhanh hơn hàm kernel 1** vì SMEM (shared memory) giúp giảm số lần truy cập vào GMEM cho dữ liệu `inPixels`, trong khi hàm kernel 1 phải truy cập vào GMEM để lấy dữ liệu cho cả `inPixels` và `filter` trong quá trình tính toán.\n",
    "\n",
    "2. **Hàm kernel 3 chạy nhanh hơn hàm kernel 2** vì sử dụng CMEM (constant memory) để lưu trữ dữ liệu `filter` sẽ hiệu quả hơn so với khi sử dụng GMEM nhờ cơ chế caching tối ưu cho dữ liệu bất biến.\n",
    "\n",
    "3. **Kích thước block ảnh hưởng thời gian chạy**:\n",
    "   - Kích thước block nhỏ sẽ có nhiều overhead quản lý block hơn.\n",
    "   - Kích thước block lớn có thể tận dụng tốt hơn tài nguyên SM nhưng phải cân đối để không vượt quá giới hạn tài nguyên phần cứng.\n",
    "\n",
    "> References:  \n",
    "> [1] Book \"Programming Massively Parallel Processors: A Hands-on Approach, 4th edition\", chapter \"7 - Convolution\", by Wen-mei W. Hwu, David B. Kirk, Izzat El Hajj.  "
   ]
  },
  {
   "cell_type": "markdown",
   "metadata": {
    "id": "XebMjR45-0Io"
   },
   "source": [
    "## Question 2"
   ]
  },
  {
   "cell_type": "markdown",
   "metadata": {
    "id": "9f948-KHzCDb"
   },
   "source": [
    "**Đề bài**: Áp dụng luồng CUDA để tối ưu hóa chương trình thực hiện cộng 2 véc-tơ."
   ]
  },
  {
   "cell_type": "markdown",
   "metadata": {
    "id": "TxgeQfM8zCDb"
   },
   "source": [
    "Biên dịch file code `HW3_P2.cu` với trình biên dịch NVCC:"
   ]
  },
  {
   "cell_type": "code",
   "execution_count": 11,
   "metadata": {
    "id": "NhOn1wUNzCDb"
   },
   "outputs": [],
   "source": [
    "!nvcc HW3_P2.cu -o HW3_P2"
   ]
  },
  {
   "cell_type": "markdown",
   "metadata": {
    "id": "E_dapMcNzCDb"
   },
   "source": [
    "Chạy chương trình với số lượng stream khác nhau (để kích thước block là 512):\n",
    "- Với kích thước block là 512 và số lượng stream bằng 1:"
   ]
  },
  {
   "cell_type": "code",
   "execution_count": 13,
   "metadata": {
    "colab": {
     "base_uri": "https://localhost:8080/"
    },
    "id": "4n5--kmOzCDb",
    "outputId": "d4b341d2-db2b-47a9-fac4-c49bf0871322"
   },
   "outputs": [
    {
     "name": "stdout",
     "output_type": "stream",
     "text": [
      "n =  16777217\n",
      "\n",
      "GPU name: Tesla T4\n",
      "GPU compute capability: 7.5\n",
      "Processing time of all device streams: 16.947647 ms\n",
      "\n",
      "CORRECT :)\n",
      "Generating '/tmp/nsys-report-118c.qdstrm'\n",
      "[1/1] [========================100%] report2.nsys-rep\n",
      "Generated:\n",
      "    /content/report2.nsys-rep\n"
     ]
    }
   ],
   "source": [
    "# Generate report with nsight system\n",
    "!nsys profile ./HW3_P2 512 1"
   ]
  },
  {
   "cell_type": "markdown",
   "metadata": {
    "id": "5U5pgRFAykwk"
   },
   "source": [
    "![P2_S1_Image.png](data:image/png;base64,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)"
   ]
  },
  {
   "cell_type": "markdown",
   "metadata": {
    "id": "WXip-h-dx0UR"
   },
   "source": [
    "**Nhận xét**: Kết quả từ NVIDIA Nsight System cho thấy khi sử dụng **1 stream**, các hoạt động sao chép bộ nhớ (Host-to-Device và Device-to-Host) **không có sự overlap** với nhau hoặc với việc thực thi hàm kernel trên thiết bị. Điều này được thể hiện qua hình ảnh, trong đó:\n",
    "\n",
    "1. **Copy Host-to-Device (HtoD)**: Chiếm một phần lớn thời gian, nhưng không chạy song song với hàm kernel hay bất kỳ hoạt động nào khác.\n",
    "2. **Kernel Execution**: Chỉ bắt đầu sau khi toàn bộ dữ liệu đã được sao chép từ host sang device.\n",
    "3. **Copy Device-to-Host (DtoH)**: Chỉ diễn ra sau khi hàm kernel kết thúc, không overlap với hàm kernel hoặc bất kỳ hoạt động nào khác.\n",
    "\n",
    "Điều này dẫn đến tình trạng **sử dụng tài nguyên không hiệu quả**, vì các phần cứng như SM (Streaming Multiprocessors) trên GPU không được sử dụng tối ưu trong khi thực hiện các thao tác sao chép dữ liệu. **Nguyên nhân** là do ta chỉ sử dụng **1 stream**, tất cả các tác vụ được thực hiện theo trình tự tuần tự (sequential execution), không khai thác được tính chất bất đồng bộ (asynchronous) vốn có của CUDA. Để tăng hiệu năng, ta có thể tăng số lượng stream (ví dụ: 2, 4, hoặc 8) để các thao tác HtoD, chạy hàm kernel, và DtoH có thể overlap với nhau, giúp tận dụng tốt hơn các tài nguyên phần cứng.\n"
   ]
  },
  {
   "cell_type": "markdown",
   "metadata": {
    "id": "j3IQFX8_zCDc"
   },
   "source": [
    "- Với kích thước block là 512 và số lượng stream bằng 3:"
   ]
  },
  {
   "cell_type": "code",
   "execution_count": 15,
   "metadata": {
    "colab": {
     "base_uri": "https://localhost:8080/"
    },
    "id": "0ZrMuMv2zCDc",
    "outputId": "d9254e35-60be-4178-eacc-438a5a3e0556"
   },
   "outputs": [
    {
     "name": "stdout",
     "output_type": "stream",
     "text": [
      "n =  16777217\n",
      "\n",
      "GPU name: Tesla T4\n",
      "GPU compute capability: 7.5\n",
      "Processing time of all device streams: 14.035872 ms\n",
      "\n",
      "CORRECT :)\n",
      "Generating '/tmp/nsys-report-0bf4.qdstrm'\n",
      "[1/1] [========================100%] report4.nsys-rep\n",
      "Generated:\n",
      "    /content/report4.nsys-rep\n"
     ]
    }
   ],
   "source": [
    "# Generate report with nsight system\n",
    "!nsys profile ./HW3_P2 512 3"
   ]
  },
  {
   "cell_type": "markdown",
   "metadata": {
    "id": "9ve7Cqx9GiYs"
   },
   "source": [
    "![P2_S3_Image.png](data:image/png;base64,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)"
   ]
  },
  {
   "cell_type": "markdown",
   "metadata": {
    "id": "OBfYvr10x0US"
   },
   "source": [
    "**Nhận xét**: Kết quả từ NVIDIA Nsight System khi sử dụng **3 stream** cho thấy rõ ràng rằng các công việc đã được thực hiện bất đồng bộ (song song) và có sự **overlap** giữa các hoạt động. Điều này được minh họa qua hình ảnh, ta thấy:\n",
    "\n",
    "1. **Sự overlap giữa các stream**: Các thao tác sao chép dữ liệu (HtoD, DtoH) và thực thi hàm kernel của các stream xảy ra song song. Ví dụ:\n",
    "   - Trong khi một stream đang thực hiện sao chép dữ liệu HtoD, các stream khác có thể đang chạy hàm kernel hoặc sao chép dữ liệu DtoH.\n",
    "\n",
    "   - Sự phân bố công việc giữa các stream giúp sử dụng hiệu quả hơn các tài nguyên GPU.\n",
    "\n",
    "2. **Sự phân bổ tài nguyên tốt hơn**:\n",
    "   - Thời gian thực thi tổng thể được rút ngắn so với khi sử dụng 1 stream.\n",
    "   \n",
    "   - Các giai đoạn HtoD, chạy hàm kernel, và DtoH không bị chờ đợi tuần tự mà được thực hiện xen kẽ, giúp giảm độ trễ.\n",
    "\n",
    "**Ưu điểm khi sử dụng nhiều stream hơn**:\n",
    "1. Hiệu quả sử dụng phần cứng được cải thiện đáng kể.\n",
    "\n",
    "2. Các hoạt động đã tận dụng tính chất bất đồng bộ của CUDA streams, giúp giảm thiểu thời gian nhàn rỗi của GPU và cải thiện thông lượng (throughput).\n",
    "\n",
    "**Kết luận**: Việc tăng số lượng stream từ 1 lên 3 đã giúp đạt được **sự đồng thời (concurrency)** giữa các công việc. Điều này khẳng định rằng thiết kế chương trình đã bắt đầu khai thác được tính năng mạnh mẽ của CUDA streams.\n",
    "\n",
    "> References:  \n",
    "> [1] Slide \"CUDA C/C++ - Streams and Concurrency\" by Steve Rennich, NVIDIA - [developer.download.nvidia.com](https://developer.download.nvidia.com/CUDA/training/StreamsAndConcurrencyWebinar.pdf).  \n"
   ]
  },
  {
   "cell_type": "code",
   "execution_count": null,
   "metadata": {
    "id": "jeSSY5Lnqd4_"
   },
   "outputs": [],
   "source": [
    "# Generate report with nsight system\n",
    "# !nsys profile ./a.out"
   ]
  }
 ],
 "metadata": {
  "accelerator": "GPU",
  "colab": {
   "provenance": []
  },
  "kernelspec": {
   "display_name": "graphmining",
   "language": "python",
   "name": "python3"
  },
  "language_info": {
   "codemirror_mode": {
    "name": "ipython",
    "version": 3
   },
   "file_extension": ".py",
   "mimetype": "text/x-python",
   "name": "python",
   "nbconvert_exporter": "python",
   "pygments_lexer": "ipython3",
   "version": "3.10.12"
  }
 },
 "nbformat": 4,
 "nbformat_minor": 0
}
