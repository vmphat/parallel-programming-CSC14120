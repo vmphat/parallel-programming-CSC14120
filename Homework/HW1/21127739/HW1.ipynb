{
 "cells": [
  {
   "cell_type": "markdown",
   "metadata": {
    "id": "eGBgThS8q8k3"
   },
   "source": [
    "Họ tên: Vũ Minh Phát\n",
    "\n",
    "MSSV: 21127739"
   ]
  },
  {
   "cell_type": "markdown",
   "metadata": {
    "id": "7qdrvDrCrnqz"
   },
   "source": [
    "# HW1: Giới thiệu CUDA"
   ]
  },
  {
   "cell_type": "markdown",
   "metadata": {
    "id": "VKXB0wA7yhq9"
   },
   "source": [
    "Với các GPU tương đối mới thì để biên dịch chỉ cần dùng câu lệnh: \\\n",
    "`nvcc tên-file.cu -o tên-file-chạy`\n",
    "\n",
    "Nhưng trên Colab mình thường lấy được GPU khá cũ là Tesla K80 với compute capability (phiên bản phần cứng) là 3.7; để biên dịch đúng với GPU khá cũ này thì bạn cần dùng câu lệnh: \\\n",
    "`nvcc -arch=sm_37 tên-file.cu -o tên-file-chạy` \\\n",
    "Trong đó, 37 chính là compute capability của GPU Tesla K80.\n",
    "\n",
    "Để phòng trường hợp khi làm bài bạn lấy được GPU có compute capability x.x nhưng khi chấm bài Thầy lại lấy được GPU có compute capability khác x.x, dưới đây mình sẽ có đoạn code Python để tự động lấy 2 con số ứng với compute capability của GPU và lưu vào 2 biến `major` và `minor`:\n"
   ]
  },
  {
   "cell_type": "code",
   "execution_count": 1,
   "metadata": {
    "colab": {
     "base_uri": "https://localhost:8080/"
    },
    "id": "bCkmnirl2xWF",
    "outputId": "f3878e34-869f-4b6f-a8ab-bd1a6a5fda34"
   },
   "outputs": [
    {
     "name": "stdout",
     "output_type": "stream",
     "text": [
      "GPU compute capability: 7.5\n"
     ]
    }
   ],
   "source": [
    "from numba import cuda\n",
    "major, minor = cuda.get_current_device().compute_capability\n",
    "print(f'GPU compute capability: {major}.{minor}')"
   ]
  },
  {
   "cell_type": "markdown",
   "metadata": {
    "id": "Tq1-pmi72yS6"
   },
   "source": [
    "Một khi đã chạy đoạn code Python ở trên, để biên dịch thì bạn sẽ dùng câu lệnh: \\\n",
    "`nvcc -arch=sm_{major}{minor} tên-file.cu -o tên-file-chạy`"
   ]
  },
  {
   "cell_type": "markdown",
   "metadata": {
    "id": "QkZaH7EE-ocN"
   },
   "source": [
    "Dưới đây, khi làm bài thì bạn có thể tùy ý thêm/xóa cell. Đừng xóa mấy cell có chữ của Thầy là được."
   ]
  },
  {
   "cell_type": "markdown",
   "metadata": {
    "id": "DH9lSjFfr3Kw"
   },
   "source": [
    "## Câu 1"
   ]
  },
  {
   "cell_type": "markdown",
   "metadata": {
    "id": "08goIOmvSby-"
   },
   "source": [
    "**Đề bài**: Viết chương trình chuyển ảnh RGB (ảnh màu) sang ảnh grayscale (ảnh xám) theo công thức:\n",
    "<center>\n",
    "giá-trị-grayscale = 0.299<span>&#215;</span>giá-trị-red + 0.587<span>&#215;</span>giá-trị-green + 0.114<span>&#215;</span>giá-trị-blue\n",
    "</center>"
   ]
  },
  {
   "cell_type": "markdown",
   "metadata": {
    "id": "hLuUVyRoSby_"
   },
   "source": [
    "`1.` Biên dịch chương trình"
   ]
  },
  {
   "cell_type": "code",
   "execution_count": 2,
   "metadata": {
    "id": "aZNqZuECjNso"
   },
   "outputs": [],
   "source": [
    "!nvcc -arch=sm_{major}{minor} HW1_P1.cu -o HW1_P1"
   ]
  },
  {
   "cell_type": "markdown",
   "metadata": {
    "id": "QfJBGWBsSby_"
   },
   "source": [
    "`2.` Thử nghiệm chương trình với kích thước block tùy ý để đảm bảo mọi chuyện diễn ra đúng như mong đợi"
   ]
  },
  {
   "cell_type": "code",
   "execution_count": 3,
   "metadata": {
    "colab": {
     "base_uri": "https://localhost:8080/"
    },
    "id": "NVFUj14OYUyy",
    "outputId": "01f21e30-7cb6-4bae-d6f8-3e0e121c9deb"
   },
   "outputs": [
    {
     "name": "stdout",
     "output_type": "stream",
     "text": [
      "Image size (width x height): 512 x 512\n",
      "\n",
      "Processing time (use host): 3.010560 ms\n",
      "\n",
      "GPU name: Tesla T4\n",
      "GPU compute capability: 7.5\n",
      "Processing time (use device): 3.096192 ms\n",
      "\n",
      "Error between device result and host result: 0.002674\n"
     ]
    }
   ],
   "source": [
    "!./HW1_P1 in.pnm out.pnm 32 16"
   ]
  },
  {
   "cell_type": "markdown",
   "metadata": {
    "id": "W6xWNaKxSby_"
   },
   "source": [
    "`3.` Chạy chương trình với các kích thước block khác nhau: 16x16, 32x32, 64x64"
   ]
  },
  {
   "cell_type": "markdown",
   "metadata": {
    "id": "xuHaliojSbzA"
   },
   "source": [
    "- Với kích thước block 16x16:"
   ]
  },
  {
   "cell_type": "code",
   "execution_count": 4,
   "metadata": {
    "colab": {
     "base_uri": "https://localhost:8080/"
    },
    "id": "S3LpnSMLSbzA",
    "outputId": "f3f8b3c1-ea99-4b41-e399-f2ebaaba12ae"
   },
   "outputs": [
    {
     "name": "stdout",
     "output_type": "stream",
     "text": [
      "Image size (width x height): 512 x 512\n",
      "\n",
      "Processing time (use host): 3.014688 ms\n",
      "\n",
      "GPU name: Tesla T4\n",
      "GPU compute capability: 7.5\n",
      "Processing time (use device): 1.123904 ms\n",
      "\n",
      "Error between device result and host result: 0.002674\n"
     ]
    }
   ],
   "source": [
    "!./HW1_P1 in.pnm out.pnm 16 16"
   ]
  },
  {
   "cell_type": "markdown",
   "metadata": {
    "id": "bYEhdTsmSbzA"
   },
   "source": [
    "- Với kích thước block 32x32:"
   ]
  },
  {
   "cell_type": "code",
   "execution_count": 5,
   "metadata": {
    "colab": {
     "base_uri": "https://localhost:8080/"
    },
    "id": "9trvgqi0SbzA",
    "outputId": "cae187b9-c33a-44fb-8e02-b6ad665e92d2"
   },
   "outputs": [
    {
     "name": "stdout",
     "output_type": "stream",
     "text": [
      "Image size (width x height): 512 x 512\n",
      "\n",
      "Processing time (use host): 3.406784 ms\n",
      "\n",
      "GPU name: Tesla T4\n",
      "GPU compute capability: 7.5\n",
      "Processing time (use device): 1.103648 ms\n",
      "\n",
      "Error between device result and host result: 0.002674\n"
     ]
    }
   ],
   "source": [
    "!./HW1_P1 in.pnm out.pnm 32 32"
   ]
  },
  {
   "cell_type": "markdown",
   "metadata": {
    "id": "WAZ4-mBXSbzA"
   },
   "source": [
    "- Với kích thước block 64x64:"
   ]
  },
  {
   "cell_type": "code",
   "execution_count": 6,
   "metadata": {
    "colab": {
     "base_uri": "https://localhost:8080/"
    },
    "id": "uUOX2OaUSbzA",
    "outputId": "6c88b7a5-1b44-4753-9b8c-30ecb6a61e39"
   },
   "outputs": [
    {
     "name": "stdout",
     "output_type": "stream",
     "text": [
      "Image size (width x height): 512 x 512\n",
      "\n",
      "Processing time (use host): 1.864448 ms\n",
      "\n",
      "GPU name: Tesla T4\n",
      "GPU compute capability: 7.5\n",
      "Error: HW1_P1.cu:201, code: 9, reason: invalid configuration argument\n"
     ]
    }
   ],
   "source": [
    "!./HW1_P1 in.pnm out.pnm 64 64"
   ]
  },
  {
   "cell_type": "markdown",
   "metadata": {
    "id": "qeA3BrRBJeYI"
   },
   "source": [
    "**Nhận xét**:\n",
    "\n",
    "`1.` **Về hiệu suất xử lý**:\n",
    "- Khi kích thước block tăng từ 16x16 lên 32x32, thời gian xử lý có xu hướng giảm xuống, cho thấy khả năng tăng hiệu suất khi sử dụng các block lớn hơn. Điều này có thể là do block lớn hơn giúp tận dụng tốt hơn các tài nguyên tính toán của GPU, giảm thiểu số lượng block và do đó giảm overhead quản lý.\n",
    "\n",
    "- Với block 64x64, thời gian xử lý của device không được đo vì lỗi cấu hình xuất hiện. Nguyên nhân có thể là do block 64x64 vượt quá giới hạn tài nguyên của GPU, dẫn đến lỗi cấu hình.\n",
    "\n",
    "`2.` **Về sự khác biệt giữa kết quả của CPU và GPU**:\n",
    "- Giá trị khác biệt trung bình giữa kết quả từ CPU và GPU rất nhỏ (khoảng 0.002674 trong cả hai trường hợp 16x16 và 32x32), cho thấy kết quả từ device gần như trùng khớp với kết quả từ host.\n",
    "\n",
    "`3.` **Về khả năng xử lý lỗi**:\n",
    "- Với kích thước block 64x64, chương trình đã phát hiện và báo lỗi đúng như mong đợi. Điều này cho thấy khả năng xử lý lỗi khi cấu hình vượt quá giới hạn tài nguyên, giúp tránh tình trạng crash hoặc lỗi không rõ nguyên nhân khi chạy với block lớn."
   ]
  },
  {
   "cell_type": "markdown",
   "metadata": {
    "id": "FkvYRL_JSbzA"
   },
   "source": [
    "> **References**:  \n",
    "> [1] Blog \"How to Query Device Properties and Handle Errors in CUDA C/C++\", section \"Handling CUDA Errors\", by Mark Harris - [developer.nvidia.com](https://developer.nvidia.com/blog/how-query-device-properties-and-handle-errors-cuda-cc/).  \n",
    "> [2] GitHub repository \"CUDA-RGB-grey\" by Mohammadhossein Zarei - [github.com](https://github.com/mhezarei/CUDA-RGB-grey).  "
   ]
  },
  {
   "cell_type": "markdown",
   "metadata": {
    "id": "XlycLWxberDO"
   },
   "source": [
    "## Câu 2"
   ]
  },
  {
   "cell_type": "markdown",
   "metadata": {
    "id": "UHeUl4jcSbzA"
   },
   "source": [
    "**Đề bài**: Viết chương trình làm mờ ảnh RGB. Để làm mờ ảnh RGB, ta sẽ thực hiện phép tích chập (convolution) giữa một filter (bộ lọc) với từng kênh màu của ảnh."
   ]
  },
  {
   "cell_type": "markdown",
   "metadata": {
    "id": "pcmtOOCUSbzA"
   },
   "source": [
    "`1.` Biên dịch chương trình"
   ]
  },
  {
   "cell_type": "code",
   "execution_count": 7,
   "metadata": {
    "id": "gE-rY5TesEFe"
   },
   "outputs": [],
   "source": [
    "!nvcc -arch=sm_{major}{minor} HW1_P2.cu -o HW1_P2"
   ]
  },
  {
   "cell_type": "markdown",
   "metadata": {
    "id": "xKapEjhRSbzA"
   },
   "source": [
    "`2.` Thử nghiệm chương trình với kích thước block tùy ý để đảm bảo mọi chuyện diễn ra đúng như mong đợi"
   ]
  },
  {
   "cell_type": "code",
   "execution_count": 8,
   "metadata": {
    "colab": {
     "base_uri": "https://localhost:8080/"
    },
    "id": "GG1mOFWW7zlB",
    "outputId": "324a8519-2ec4-450d-c007-8fddd55e165c"
   },
   "outputs": [
    {
     "name": "stdout",
     "output_type": "stream",
     "text": [
      "Image size (width x height): 512 x 512\n",
      "\n",
      "Processing time (use host): 419.608765 ms\n",
      "Error: 0.000000\n",
      "\n",
      "GPU name: Tesla T4\n",
      "GPU compute capability: 7.5\n",
      "Processing time (use device): 1.925696 ms\n",
      "Error: 0.000703\n",
      "\n"
     ]
    }
   ],
   "source": [
    "!./HW1_P2 in.pnm out2.pnm out2_target.pnm 32 16"
   ]
  },
  {
   "cell_type": "markdown",
   "metadata": {
    "id": "1tzo9FNHSbzB"
   },
   "source": [
    "`3.` Chạy chương trình với các kích thước block khác nhau: 16x16, 32x32, 64x64"
   ]
  },
  {
   "cell_type": "markdown",
   "metadata": {
    "id": "LOWWTnaRSbzB"
   },
   "source": [
    "- Với kích thước block 16x16:"
   ]
  },
  {
   "cell_type": "code",
   "execution_count": 9,
   "metadata": {
    "colab": {
     "base_uri": "https://localhost:8080/"
    },
    "id": "u6CFLoePSbzB",
    "outputId": "971c68fa-ffd0-493e-d059-b1e8b3f801fa"
   },
   "outputs": [
    {
     "name": "stdout",
     "output_type": "stream",
     "text": [
      "Image size (width x height): 512 x 512\n",
      "\n",
      "Processing time (use host): 422.342102 ms\n",
      "Error: 0.000000\n",
      "\n",
      "GPU name: Tesla T4\n",
      "GPU compute capability: 7.5\n",
      "Processing time (use device): 2.032320 ms\n",
      "Error: 0.000703\n",
      "\n"
     ]
    }
   ],
   "source": [
    "!./HW1_P2 in.pnm out2.pnm out2_target.pnm 16 16"
   ]
  },
  {
   "cell_type": "markdown",
   "metadata": {
    "id": "VLeikWTwSbzB"
   },
   "source": [
    "- Với kích thước block 32x32:"
   ]
  },
  {
   "cell_type": "code",
   "execution_count": 10,
   "metadata": {
    "colab": {
     "base_uri": "https://localhost:8080/"
    },
    "id": "TelmjGTSSbzB",
    "outputId": "4b320e2e-5ca8-4d34-ca94-7965071deede"
   },
   "outputs": [
    {
     "name": "stdout",
     "output_type": "stream",
     "text": [
      "Image size (width x height): 512 x 512\n",
      "\n",
      "Processing time (use host): 420.653564 ms\n",
      "Error: 0.000000\n",
      "\n",
      "GPU name: Tesla T4\n",
      "GPU compute capability: 7.5\n",
      "Processing time (use device): 1.859712 ms\n",
      "Error: 0.000703\n",
      "\n"
     ]
    }
   ],
   "source": [
    "!./HW1_P2 in.pnm out2.pnm out2_target.pnm 32 32"
   ]
  },
  {
   "cell_type": "markdown",
   "metadata": {
    "id": "2VyhxWS6SbzB"
   },
   "source": [
    "- Với kích thước block 64x64:"
   ]
  },
  {
   "cell_type": "code",
   "execution_count": 11,
   "metadata": {
    "colab": {
     "base_uri": "https://localhost:8080/"
    },
    "id": "nButzA3WSbzB",
    "outputId": "d1aa74c1-7cb9-4e3b-86a0-dba845768e24"
   },
   "outputs": [
    {
     "name": "stdout",
     "output_type": "stream",
     "text": [
      "Image size (width x height): 512 x 512\n",
      "\n",
      "Processing time (use host): 436.203156 ms\n",
      "Error: 0.000000\n",
      "\n",
      "GPU name: Tesla T4\n",
      "GPU compute capability: 7.5\n",
      "Error: HW1_P2.cu:248, code: 9, reason: invalid configuration argument\n"
     ]
    }
   ],
   "source": [
    "!./HW1_P2 in.pnm out2.pnm out2_target.pnm 64 64"
   ]
  },
  {
   "cell_type": "markdown",
   "metadata": {
    "id": "AOfFnI-WJeYK"
   },
   "source": [
    "**Nhận xét**:\n",
    "\n",
    "`1.` **Hiệu suất xử lý**:\n",
    "- Nhìn chung, khi sử dụng CUDA, thời gian xử lý của GPU giảm đáng kể so với CPU (từ hơn 400 ms của host xuống khoảng 2 ms khi dùng device), cho thấy CUDA tận dụng tốt năng lực xử lý song song của GPU để làm mờ ảnh.\n",
    "\n",
    "- Với các kích thước block khác nhau, thời gian xử lý trên device giảm nhẹ khi kích thước block tăng từ 16x16 lên 32x32, nhờ vào việc tận dụng tài nguyên hiệu quả hơn.\n",
    "\n",
    "- Tuy nhiên, khi kích thước block tăng lên 64x64, chương trình không thể chạy được do lỗi cấu hình \"invalid configuration argument\". Điều này có thể là do kích thước block vượt quá giới hạn tài nguyên của GPU.\n",
    "\n",
    "`2.` **Độ chính xác của kết quả**:\n",
    "- Giá trị khác biệt trung bình giữa ảnh kết quả của device và ảnh kết quả đúng là rất nhỏ (khoảng 0.000703) cho cả hai trường hợp 16x16 và 32x32, cho thấy hàm kernel đã hoạt động đúng như mong đợi.\n",
    "\n",
    "- Dường như không có lỗi giữa kết quả của host và ảnh chuẩn, chứng tỏ kết quả từ CPU là đáng tin cậy.\n",
    "\n",
    "`3.` **Xử lý lỗi**:\n",
    "- Với kích thước block 64x64, chương trình đã phát hiện và báo lỗi đúng như mong đợi. Điều này cho thấy khả năng xử lý lỗi khi cấu hình vượt quá giới hạn tài nguyên, giúp tránh tình trạng crash hoặc lỗi không rõ nguyên nhân khi chạy với block lớn."
   ]
  },
  {
   "cell_type": "markdown",
   "metadata": {
    "id": "__cXPv9GSbzB"
   },
   "source": [
    "> **References**:  \n",
    "> [1] Question \"What is the canonical way to check for errors using the CUDA runtime API?\" - [stackoverflow.com](https://stackoverflow.com/questions/14038589/what-is-the-canonical-way-to-check-for-errors-using-the-cuda-runtime-api).  \n",
    "> [2] GitHub repository \"cuda-blur\" by Ji Yan - [github.com](https://github.com/yanji84/cuda-blur).  "
   ]
  }
 ],
 "metadata": {
  "accelerator": "GPU",
  "colab": {
   "provenance": []
  },
  "kernelspec": {
   "display_name": "graphmining",
   "language": "python",
   "name": "python3"
  },
  "language_info": {
   "codemirror_mode": {
    "name": "ipython",
    "version": 3
   },
   "file_extension": ".py",
   "mimetype": "text/x-python",
   "name": "python",
   "nbconvert_exporter": "python",
   "pygments_lexer": "ipython3",
   "version": "3.10.12"
  }
 },
 "nbformat": 4,
 "nbformat_minor": 0
}
